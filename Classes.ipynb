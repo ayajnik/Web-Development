{
 "cells": [
  {
   "cell_type": "markdown",
   "metadata": {},
   "source": [
    "# Python Classes and Objects."
   ]
  },
  {
   "cell_type": "markdown",
   "metadata": {},
   "source": [
    "Tutorial "
   ]
  },
  {
   "cell_type": "code",
   "execution_count": 1,
   "metadata": {},
   "outputs": [],
   "source": [
    "import tensorflow as tf"
   ]
  },
  {
   "cell_type": "code",
   "execution_count": 22,
   "metadata": {},
   "outputs": [
    {
     "name": "stdout",
     "output_type": "stream",
     "text": [
      "Ayush\n",
      "Yadvi\n"
     ]
    }
   ],
   "source": [
    "class Student:\n",
    "    pass\n",
    "\n",
    "std_1=Student()\n",
    "std_2=Student()\n",
    "\n",
    "std_1.first = \"Ayush\"\n",
    "std_2.first = \"Yadvi\"\n",
    "std_1.last = \"Yajnik\"\n",
    "std_2.last = \"Maheshwari\"\n",
    "std_1.age = \"24\"\n",
    "std_2.age = \"23\"\n",
    "\n",
    "print (std_1.first)\n",
    "print (std_2.first)"
   ]
  },
  {
   "cell_type": "markdown",
   "metadata": {},
   "source": [
    "Now defining class with constructer"
   ]
  },
  {
   "cell_type": "code",
   "execution_count": 23,
   "metadata": {},
   "outputs": [
    {
     "name": "stdout",
     "output_type": "stream",
     "text": [
      "The age of Ayush is 24\n",
      "The age of Yadvi is 23\n"
     ]
    }
   ],
   "source": [
    "class Student:\n",
    "    def __init__(self,first,last,age):\n",
    "        self.first = first\n",
    "        self.last = last\n",
    "        self.age = age\n",
    "        \n",
    "std_1 = Student('Ayush','Yajnik','24')\n",
    "std_2 = Student('Yadvi','Maheshwari','23')\n",
    "\n",
    "print ('The age of',std_1.first, 'is',std_1.age)\n",
    "print ('The age of',std_2.first, 'is',std_2.age)"
   ]
  },
  {
   "cell_type": "markdown",
   "metadata": {},
   "source": [
    "Defining every method with proper cases"
   ]
  },
  {
   "cell_type": "code",
   "execution_count": 24,
   "metadata": {},
   "outputs": [
    {
     "name": "stdout",
     "output_type": "stream",
     "text": [
      "The fullname of the first candidate is ('The full name of the candidate is', 'Ayush Yajnik')\n",
      "The fullname of the first candidate is ('The full name of the candidate is', 'Yadvi Maheshwari')\n"
     ]
    }
   ],
   "source": [
    "class Student:\n",
    "    def __init__(self,first,last,age):\n",
    "        self.first = first\n",
    "        self.last = last\n",
    "        self.age = age\n",
    "        \n",
    "    def full_name(self):\n",
    "        return ('The full name of the candidate is', '{} {}'.format(self.first,self.last))\n",
    "        \n",
    "std_1 = Student('Ayush','Yajnik','24')\n",
    "std_2 = Student('Yadvi','Maheshwari','23')\n",
    "\n",
    "print ('The fullname of the first candidate is', std_1.full_name())\n",
    "print ('The fullname of the first candidate is', std_2.full_name())"
   ]
  },
  {
   "cell_type": "markdown",
   "metadata": {},
   "source": [
    "Applying more object cases"
   ]
  },
  {
   "cell_type": "code",
   "execution_count": 25,
   "metadata": {},
   "outputs": [],
   "source": [
    "class Student:\n",
    "    def __init__(self,first,last,age):\n",
    "        self.first = first\n",
    "        self.last = last\n",
    "        self.age = age\n",
    "        \n",
    "    def full_name(self):\n",
    "        return ('The full name of the candidate is', '{} {}'.format(self.first,self.last))\n",
    "\n",
    "    def age_inc(self):\n",
    "        return(\"The age of the first candidate after 4 years will be\", (std_1.age)+'5')\n",
    "         "
   ]
  },
  {
   "cell_type": "code",
   "execution_count": 28,
   "metadata": {},
   "outputs": [
    {
     "name": "stdout",
     "output_type": "stream",
     "text": [
      "{'first': 'Yadvi', 'last': 'Maheshwari', 'age': '23'}\n"
     ]
    }
   ],
   "source": [
    "#print all the details of the second candidate in dictionary format\n",
    "print (std_2.__dict__)"
   ]
  },
  {
   "cell_type": "code",
   "execution_count": 29,
   "metadata": {},
   "outputs": [
    {
     "name": "stdout",
     "output_type": "stream",
     "text": [
      "{'__module__': '__main__', '__init__': <function Student.__init__ at 0x0000025D761BD950>, 'full_name': <function Student.full_name at 0x0000025D761BD840>, 'age_inc': <function Student.age_inc at 0x0000025D761BD8C8>, '__dict__': <attribute '__dict__' of 'Student' objects>, '__weakref__': <attribute '__weakref__' of 'Student' objects>, '__doc__': None}\n"
     ]
    }
   ],
   "source": [
    "#passing the dictionary command for the whole class\n",
    "\n",
    "print(Student.__dict__)"
   ]
  },
  {
   "cell_type": "code",
   "execution_count": null,
   "metadata": {},
   "outputs": [],
   "source": []
  }
 ],
 "metadata": {
  "kernelspec": {
   "display_name": "Python 3",
   "language": "python",
   "name": "python3"
  },
  "language_info": {
   "codemirror_mode": {
    "name": "ipython",
    "version": 3
   },
   "file_extension": ".py",
   "mimetype": "text/x-python",
   "name": "python",
   "nbconvert_exporter": "python",
   "pygments_lexer": "ipython3",
   "version": "3.7.3"
  }
 },
 "nbformat": 4,
 "nbformat_minor": 2
}
